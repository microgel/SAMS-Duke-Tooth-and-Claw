{
 "metadata": {
  "language_info": {
   "codemirror_mode": {
    "name": "ipython",
    "version": 3
   },
   "file_extension": ".py",
   "mimetype": "text/x-python",
   "name": "python",
   "nbconvert_exporter": "python",
   "pygments_lexer": "ipython3",
   "version": "3.8.5-final"
  },
  "orig_nbformat": 2,
  "kernelspec": {
   "name": "python_defaultSpec_1599992222789",
   "display_name": "Python 3.8.5 64-bit ('mirus_FLASH': conda)"
  }
 },
 "nbformat": 4,
 "nbformat_minor": 2,
 "cells": [
  {
   "cell_type": "code",
   "execution_count": 2,
   "metadata": {},
   "outputs": [],
   "source": [
    "import numpy as np\n",
    "from scipy.io import loadmat\n",
    "import trimesh"
   ]
  },
  {
   "cell_type": "code",
   "execution_count": 3,
   "metadata": {},
   "outputs": [
    {
     "output_type": "execute_result",
     "data": {
      "text/plain": "(60, 60)"
     },
     "metadata": {},
     "execution_count": 3
    }
   ],
   "source": [
    "dists = loadmat(\"FinalDists.mat\")\n",
    "dists['dists'].shape"
   ]
  },
  {
   "cell_type": "code",
   "execution_count": 4,
   "metadata": {},
   "outputs": [
    {
     "output_type": "execute_result",
     "data": {
      "text/plain": "{'__header__': b'MATLAB 5.0 MAT-file, Platform: PCWIN64, Created on: Mon May 25 00:26:18 2020',\n '__version__': '1.0',\n '__globals__': [],\n 'Names': array([[array(['AMNH-100512_M545_aligned'], dtype='<U24'),\n         array(['AMNH-100513_M529_aligned'], dtype='<U24'),\n         array(['AMNH-100514_M525_aligned'], dtype='<U24'),\n         array(['AMNH-100517_M236_aligned'], dtype='<U24'),\n         array(['AMNH-100569_M228_aligned'], dtype='<U24'),\n         array(['AMNH-100598_M309_aligned'], dtype='<U24'),\n         array(['AMNH-100821_M314_aligned'], dtype='<U24'),\n         array(['AMNH-100829_M456-new_aligned'], dtype='<U28'),\n         array(['AMNH-100829_M460-new_aligned'], dtype='<U28'),\n         array(['AMNH-100832_M400_aligned'], dtype='<U24'),\n         array(['AMNH-100832_M404_aligned'], dtype='<U24'),\n         array(['AMNH-101508_M422_aligned'], dtype='<U24'),\n         array(['AMNH-101782_M425-new_aligned'], dtype='<U28'),\n         array(['AMNH-102845_M427_aligned'], dtype='<U24'),\n         array(['AMNH-106650_M416_fixed_aligned'], dtype='<U30'),\n         array(['AMNH-106653_M419_aligned'], dtype='<U24'),\n         array(['AMNH-164442_M412_aligned'], dtype='<U24'),\n         array(['AMNH-170737_M305_aligned'], dtype='<U24'),\n         array(['AMNH-170740_M322_aligned'], dtype='<U24'),\n         array(['AMNH-170741_M326_aligned'], dtype='<U24'),\n         array(['AMNH-170743_M318_fixed_aligned'], dtype='<U30'),\n         array(['AMNH-17338_M541_aligned'], dtype='<U23'),\n         array(['AMNH-174483_M388_aligned'], dtype='<U24'),\n         array(['AMNH-174489_M396_aligned'], dtype='<U24'),\n         array(['AMNH-174530_M366_aligned'], dtype='<U24'),\n         array(['AMNH-174531_M392_aligned'], dtype='<U24'),\n         array(['AMNH-174533_M370_aligned'], dtype='<U24'),\n         array(['AMNH-174534_M374_aligned'], dtype='<U24'),\n         array(['AMNH-18041_M537_aligned'], dtype='<U23'),\n         array(['AMNH-183827_M408_aligned'], dtype='<U24'),\n         array(['AMNH-18696_M194_aligned'], dtype='<U23'),\n         array(['AMNH-19159_M190_aligned'], dtype='<U23'),\n         array(['AMNH-245092_M533_aligned'], dtype='<U24'),\n         array(['AMNH-41264_M232-new_aligned'], dtype='<U27'),\n         array(['AMNH-41268_M240_aligned'], dtype='<U23'),\n         array(['AMNH-87279_M452_aligned'], dtype='<U23'),\n         array(['CGM42842_Anchomomys_R_Lower_raw-crop-smooth2_aligned'],\n       dtype='<U52'),\n         array(['DPC-0137_M9628-13786_Mirza_coquereli_Left-patch_aligned'],\n       dtype='<U55'),\n         array(['DPC-0137_M9628-13786_Mirza_coquereli_Right_patch_aligned'],\n       dtype='<U56'),\n         array(['DPC-1139_M1725-13390_Mirza_coquereli_Left_patch_aligned'],\n       dtype='<U55'),\n         array(['DPC-1139_M1725-13390_Mirza_coquereli_Right_patch_aligned'],\n       dtype='<U56'),\n         array(['DPC-13439_Wadilemur-crop_aligned'], dtype='<U32'),\n         array(['DPC-16872_Wadilemur-crop_aligned'], dtype='<U32'),\n         array(['DPC_21456K_karanisia-crop_aligned'], dtype='<U33'),\n         array(['DPC_21748B_karanisia-crop_aligned'], dtype='<U33'),\n         array(['DPC_21840H_karanisia-crop_aligned'], dtype='<U33'),\n         array(['DPC_22999F_karanisia-crop_aligned'], dtype='<U33'),\n         array(['KNM-58730_M14694-26331_m2_fixed_smooth_aligned'], dtype='<U46'),\n         array(['MCZ-44953_M712_aligned'], dtype='<U22'),\n         array(['MCZ-45126_M716_aligned'], dtype='<U22'),\n         array(['SBU_Nc-01-no_number_M555_aligned'], dtype='<U32'),\n         array(['USNM-063338_M223_aligned'], dtype='<U24'),\n         array(['USNM-063355_M720_fixed_aligned'], dtype='<U30'),\n         array(['USNM-063356_M724_aligned'], dtype='<U24'),\n         array(['USNM-083668_M728_aligned'], dtype='<U24'),\n         array(['USNM-083961_M225-new_aligned'], dtype='<U28'),\n         array(['USNM-084382_M550_aligned'], dtype='<U24'),\n         array(['USNM-084383_M626_fixed_aligned'], dtype='<U30'),\n         array(['USNM-084386_M732_fixed_aligned'], dtype='<U30'),\n         array(['USNM-317966_M736_aligned'], dtype='<U24')]], dtype=object)}"
     },
     "metadata": {},
     "execution_count": 4
    }
   ],
   "source": [
    "names = loadmat(\"Names.mat\")\n",
    "names"
   ]
  },
  {
   "cell_type": "markdown",
   "metadata": {},
   "source": [
    "#### Change this to check for any file"
   ]
  },
  {
   "cell_type": "code",
   "execution_count": 17,
   "metadata": {},
   "outputs": [],
   "source": [
    "testfile = \"OFF/USNM-317966_M736_aligned.off\""
   ]
  },
  {
   "cell_type": "markdown",
   "metadata": {},
   "source": [
    "### Load trimesh object with vertex merging enabled"
   ]
  },
  {
   "cell_type": "code",
   "execution_count": 18,
   "metadata": {},
   "outputs": [
    {
     "output_type": "execute_result",
     "data": {
      "text/plain": "<trimesh.Trimesh(vertices.shape=(4275, 3), faces.shape=(8383, 3))>"
     },
     "metadata": {},
     "execution_count": 18
    }
   ],
   "source": [
    "mesh = trimesh.load_mesh(testfile, file_type=\"off\")\n",
    "mesh"
   ]
  },
  {
   "cell_type": "code",
   "execution_count": 19,
   "metadata": {},
   "outputs": [
    {
     "output_type": "execute_result",
     "data": {
      "text/plain": "TrackedArray([[-0.19136 ,  0.403949,  0.011499],\n              [-0.183488, -0.056206, -0.111515],\n              [-0.16448 , -0.060505, -0.115154],\n              ...,\n              [-0.005289, -0.133533, -0.204407],\n              [-0.036073, -0.133128, -0.18382 ],\n              [ 0.214295,  0.016714,  0.05113 ]])"
     },
     "metadata": {},
     "execution_count": 19
    }
   ],
   "source": [
    "mesh.vertices"
   ]
  },
  {
   "cell_type": "code",
   "execution_count": 20,
   "metadata": {},
   "outputs": [
    {
     "output_type": "execute_result",
     "data": {
      "text/plain": "array([[-0.196028, -0.051376, -0.124637],\n       [-0.188052, -0.050802, -0.134198],\n       [-0.197701, -0.04836 , -0.136916],\n       [-0.184611, -0.053071, -0.128165],\n       [-0.196857, -0.044319, -0.154182]])"
     },
     "metadata": {},
     "execution_count": 20
    }
   ],
   "source": [
    "vertices = []\n",
    "with open(testfile, \"r\") as f:\n",
    "    f.readline()\n",
    "    f.readline()\n",
    "    for i in range(100):\n",
    "        vertices.append([float(i) for i in f.readline().strip().split(\" \")])\n",
    "vertices = np.array(vertices)\n",
    "vertices[:5]"
   ]
  },
  {
   "cell_type": "code",
   "execution_count": 21,
   "metadata": {},
   "outputs": [],
   "source": [
    "def get_indices(vertices, mesh):\n",
    "    indices=[]\n",
    "    mv = mesh.vertices\n",
    "    for vertex in vertices:\n",
    "        indices.append(np.where((mv == vertex).all(axis=1))[0][0])\n",
    "    return indices"
   ]
  },
  {
   "cell_type": "markdown",
   "metadata": {},
   "source": [
    "### Check indices of first 100 vertices in processed mesh\n",
    "##### process arg is True by default"
   ]
  },
  {
   "cell_type": "code",
   "execution_count": 22,
   "metadata": {},
   "outputs": [
    {
     "output_type": "execute_result",
     "data": {
      "text/plain": "[2476,\n 795,\n 228,\n 1403,\n 3193,\n 3407,\n 3897,\n 1033,\n 3922,\n 3777,\n 144,\n 1332,\n 2947,\n 3159,\n 791,\n 2552,\n 4142,\n 2678,\n 3547,\n 2626,\n 2207,\n 103,\n 3713,\n 2698,\n 2074,\n 460,\n 123,\n 1507,\n 2142,\n 1,\n 3242,\n 3528,\n 1287,\n 683,\n 686,\n 38,\n 1983,\n 369,\n 3827,\n 4022,\n 3736,\n 3199,\n 516,\n 2,\n 3248,\n 280,\n 1355,\n 104,\n 1511,\n 4114,\n 4234,\n 340,\n 681,\n 86,\n 3979,\n 2126,\n 404,\n 1336,\n 115,\n 1171,\n 2573,\n 838,\n 2830,\n 1510,\n 4074,\n 533,\n 879,\n 2800,\n 1938,\n 2811,\n 1293,\n 3913,\n 3664,\n 3819,\n 2424,\n 3137,\n 1838,\n 16,\n 2798,\n 1494,\n 825,\n 2220,\n 1700,\n 872,\n 4219,\n 3480,\n 1054,\n 998,\n 1169,\n 2837,\n 236,\n 943,\n 1328,\n 223,\n 1344,\n 1831,\n 3568,\n 2869,\n 1942,\n 249]"
     },
     "metadata": {},
     "execution_count": 22
    }
   ],
   "source": [
    "mesh = trimesh.load_mesh(testfile, file_type=\"off\")\n",
    "\n",
    "indices_processed = get_indices(vertices, mesh)\n",
    "indices_processed"
   ]
  },
  {
   "cell_type": "markdown",
   "metadata": {},
   "source": [
    "### Check indices of first 100 vertices in unprocessed mesh\n",
    "##### Since vertices are not merged, it will give same result as reading the file"
   ]
  },
  {
   "cell_type": "code",
   "execution_count": 23,
   "metadata": {},
   "outputs": [
    {
     "output_type": "execute_result",
     "data": {
      "text/plain": "[0,\n 1,\n 2,\n 3,\n 4,\n 5,\n 6,\n 7,\n 8,\n 9,\n 10,\n 11,\n 12,\n 13,\n 14,\n 15,\n 16,\n 17,\n 18,\n 19,\n 20,\n 21,\n 22,\n 23,\n 24,\n 25,\n 26,\n 27,\n 28,\n 29,\n 30,\n 31,\n 32,\n 33,\n 34,\n 35,\n 36,\n 37,\n 38,\n 39,\n 40,\n 41,\n 42,\n 43,\n 44,\n 45,\n 46,\n 47,\n 48,\n 49,\n 50,\n 51,\n 52,\n 53,\n 54,\n 55,\n 56,\n 57,\n 58,\n 59,\n 60,\n 61,\n 62,\n 63,\n 64,\n 65,\n 66,\n 67,\n 68,\n 69,\n 70,\n 71,\n 72,\n 73,\n 74,\n 75,\n 76,\n 77,\n 78,\n 79,\n 80,\n 81,\n 82,\n 83,\n 84,\n 85,\n 86,\n 87,\n 88,\n 89,\n 90,\n 91,\n 92,\n 93,\n 94,\n 95,\n 96,\n 97,\n 98,\n 99]"
     },
     "metadata": {},
     "execution_count": 23
    }
   ],
   "source": [
    "mesh = trimesh.load_mesh(testfile, file_type=\"off\", process=False)\n",
    "indices_notprocessed = get_indices(vertices, mesh)\n",
    "indices_notprocessed"
   ]
  },
  {
   "cell_type": "code",
   "execution_count": null,
   "metadata": {},
   "outputs": [],
   "source": []
  }
 ]
}